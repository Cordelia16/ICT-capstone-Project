{
 "cells": [
  {
   "cell_type": "code",
   "execution_count": 1,
   "id": "0c43eb63-c502-4cf3-8c4a-bc8a7f4eeb61",
   "metadata": {},
   "outputs": [
    {
     "data": {
      "text/plain": [
       "'\\nMachince learning techniques for Anomaly Detection\\nGroup ID: 9785-23-01\\nProject ID: 2023-S1-49\\n\\nVersion 1.0.0\\n05 March 2023\\n\\n@authors: \\nCaity Ngov\\nEthan\\nNigel\\nFahad\\n\\n'"
      ]
     },
     "execution_count": 1,
     "metadata": {},
     "output_type": "execute_result"
    }
   ],
   "source": [
    "#!/usr/bin/env python3\n",
    "# -*- coding: utf-8 -*-\n",
    "\"\"\"\n",
    "Machince learning techniques for Anomaly Detection\n",
    "Group ID: 9785-23-01\n",
    "Project ID: 2023-S1-49\n",
    "\n",
    "Version 1.0.0\n",
    "05 March 2023\n",
    "\n",
    "@authors: \n",
    "Caity Ngov\n",
    "Ethan\n",
    "Nigel\n",
    "Fahad\n",
    "\n",
    "\"\"\""
   ]
  },
  {
   "cell_type": "markdown",
   "id": "dce57318-f612-4399-92d1-154b494c826e",
   "metadata": {},
   "source": [
    "step - maps a unit of time in the real world. In this case 1 step is 1 hour of time. Total steps 744 (30 days simulation).\n",
    "\n",
    "type - CASH-IN, CASH-OUT, DEBIT, PAYMENT and TRANSFER.\n",
    "\n",
    "amount - amount of the transaction in local currency.\n",
    "\n",
    "nameOrig - customer who started the transaction\n",
    "\n",
    "oldbalanceOrg - initial balance before the transaction\n",
    "\n",
    "newbalanceOrig - new balance after the transaction\n",
    "\n",
    "nameDest - customer who is the recipient of the transaction\n",
    "\n",
    "oldbalanceDest - initial balance recipient before the transaction. Note that there is not information for customers that start with M (Merchants).\n",
    "\n",
    "newbalanceDest - new balance recipient after the transaction. Note that there is not information for customers that start with M (Merchants).\n",
    "\n",
    "isFraud - This is the transactions made by the fraudulent agents inside the simulation. In this specific dataset the fraudulent behavior of the agents aims to profit by taking control or customers accounts and try to empty the funds by transferring to another account and then cashing out of the system.\n",
    "\n",
    "isFlaggedFraud - The business model aims to control massive transfers from one account to another and flags illegal attempts. An illegal attempt in this dataset is an attempt to transfer more than 200.000 in a single transaction."
   ]
  },
  {
   "cell_type": "code",
   "execution_count": 2,
   "id": "2817d19a-1932-4460-b4e8-a6f81c0e72de",
   "metadata": {},
   "outputs": [
    {
     "data": {
      "text/html": [
       "        <script type=\"text/javascript\">\n",
       "        window.PlotlyConfig = {MathJaxConfig: 'local'};\n",
       "        if (window.MathJax && window.MathJax.Hub && window.MathJax.Hub.Config) {window.MathJax.Hub.Config({SVG: {font: \"STIX-Web\"}});}\n",
       "        if (typeof require !== 'undefined') {\n",
       "        require.undef(\"plotly\");\n",
       "        requirejs.config({\n",
       "            paths: {\n",
       "                'plotly': ['https://cdn.plot.ly/plotly-2.12.1.min']\n",
       "            }\n",
       "        });\n",
       "        require(['plotly'], function(Plotly) {\n",
       "            window._Plotly = Plotly;\n",
       "        });\n",
       "        }\n",
       "        </script>\n",
       "        "
      ]
     },
     "metadata": {},
     "output_type": "display_data"
    }
   ],
   "source": [
    "# Standard imports\n",
    "import os \n",
    "\n",
    "# Dependencies\n",
    "import pandas as pd\n",
    "from IPython.display import display\n",
    "import numpy as np\n",
    "\n",
    "#Visualization libraries\n",
    "import seaborn as sns\n",
    "import matplotlib.pyplot as plt\n",
    "import plotly.express as px\n",
    "import plotly.graph_objects as go\n",
    "from plotly.offline import plot, iplot, init_notebook_mode\n",
    "init_notebook_mode(connected=True)\n",
    "%matplotlib inline\n",
    "\n",
    "#preprocessing libraries\n",
    "from sklearn.preprocessing import StandardScaler\n",
    "from sklearn.model_selection import train_test_split\n",
    "\n",
    "#ML libraries\n",
    "import tensorflow as tf\n",
    "from sklearn.svm import SVC\n",
    "from sklearn.preprocessing import LabelEncoder\n",
    "from sklearn.preprocessing import StandardScaler\n",
    "from sklearn.ensemble import ExtraTreesClassifier\n",
    "from sklearn.pipeline import make_pipeline\n",
    "from sklearn.model_selection import GridSearchCV\n",
    "from sklearn.linear_model import LogisticRegression\n",
    "from sklearn.tree import DecisionTreeClassifier\n",
    "from sklearn.ensemble import RandomForestClassifier\n",
    "from sklearn.naive_bayes import GaussianNB\n",
    "from sklearn.neighbors import KNeighborsClassifier\n",
    "from sklearn.svm import SVC\n",
    "from sklearn.svm import LinearSVC\n",
    "from sklearn.pipeline import Pipeline\n",
    "\n",
    "#Metrics Libraries\n",
    "from sklearn import metrics\n",
    "from sklearn.metrics import classification_report\n",
    "from sklearn.model_selection import cross_val_score\n",
    "from sklearn.metrics import accuracy_score\n",
    "from sklearn.metrics import confusion_matrix\n",
    "\n",
    "#Misc libraries\n",
    "import warnings\n",
    "warnings.filterwarnings(\"ignore\")"
   ]
  },
  {
   "cell_type": "code",
   "execution_count": 3,
   "id": "85f75d3f-3279-44c1-963e-88f1dd36c4c5",
   "metadata": {},
   "outputs": [
    {
     "data": {
      "text/plain": [
       "'/home/caity/ICT-capstone-Project'"
      ]
     },
     "execution_count": 3,
     "metadata": {},
     "output_type": "execute_result"
    }
   ],
   "source": [
    "# Current Working Directory\n",
    "cwd = os.getcwd()\n",
    "cwd"
   ]
  },
  {
   "cell_type": "code",
   "execution_count": 4,
   "id": "ec9d4c0d-dfe1-430d-9e31-53029b6f6e32",
   "metadata": {},
   "outputs": [
    {
     "data": {
      "text/html": [
       "<div>\n",
       "<style scoped>\n",
       "    .dataframe tbody tr th:only-of-type {\n",
       "        vertical-align: middle;\n",
       "    }\n",
       "\n",
       "    .dataframe tbody tr th {\n",
       "        vertical-align: top;\n",
       "    }\n",
       "\n",
       "    .dataframe thead th {\n",
       "        text-align: right;\n",
       "    }\n",
       "</style>\n",
       "<table border=\"1\" class=\"dataframe\">\n",
       "  <thead>\n",
       "    <tr style=\"text-align: right;\">\n",
       "      <th></th>\n",
       "      <th>step</th>\n",
       "      <th>type</th>\n",
       "      <th>amount</th>\n",
       "      <th>nameOrig</th>\n",
       "      <th>oldbalanceOrg</th>\n",
       "      <th>newbalanceOrig</th>\n",
       "      <th>nameDest</th>\n",
       "      <th>oldbalanceDest</th>\n",
       "      <th>newbalanceDest</th>\n",
       "      <th>isFraud</th>\n",
       "      <th>isFlaggedFraud</th>\n",
       "    </tr>\n",
       "  </thead>\n",
       "  <tbody>\n",
       "    <tr>\n",
       "      <th>0</th>\n",
       "      <td>1</td>\n",
       "      <td>PAYMENT</td>\n",
       "      <td>9839.64</td>\n",
       "      <td>C1231006815</td>\n",
       "      <td>170136.0</td>\n",
       "      <td>160296.36</td>\n",
       "      <td>M1979787155</td>\n",
       "      <td>0.0</td>\n",
       "      <td>0.0</td>\n",
       "      <td>0</td>\n",
       "      <td>0</td>\n",
       "    </tr>\n",
       "    <tr>\n",
       "      <th>1</th>\n",
       "      <td>1</td>\n",
       "      <td>PAYMENT</td>\n",
       "      <td>1864.28</td>\n",
       "      <td>C1666544295</td>\n",
       "      <td>21249.0</td>\n",
       "      <td>19384.72</td>\n",
       "      <td>M2044282225</td>\n",
       "      <td>0.0</td>\n",
       "      <td>0.0</td>\n",
       "      <td>0</td>\n",
       "      <td>0</td>\n",
       "    </tr>\n",
       "    <tr>\n",
       "      <th>2</th>\n",
       "      <td>1</td>\n",
       "      <td>TRANSFER</td>\n",
       "      <td>181.00</td>\n",
       "      <td>C1305486145</td>\n",
       "      <td>181.0</td>\n",
       "      <td>0.00</td>\n",
       "      <td>C553264065</td>\n",
       "      <td>0.0</td>\n",
       "      <td>0.0</td>\n",
       "      <td>1</td>\n",
       "      <td>0</td>\n",
       "    </tr>\n",
       "    <tr>\n",
       "      <th>3</th>\n",
       "      <td>1</td>\n",
       "      <td>CASH_OUT</td>\n",
       "      <td>181.00</td>\n",
       "      <td>C840083671</td>\n",
       "      <td>181.0</td>\n",
       "      <td>0.00</td>\n",
       "      <td>C38997010</td>\n",
       "      <td>21182.0</td>\n",
       "      <td>0.0</td>\n",
       "      <td>1</td>\n",
       "      <td>0</td>\n",
       "    </tr>\n",
       "    <tr>\n",
       "      <th>4</th>\n",
       "      <td>1</td>\n",
       "      <td>PAYMENT</td>\n",
       "      <td>11668.14</td>\n",
       "      <td>C2048537720</td>\n",
       "      <td>41554.0</td>\n",
       "      <td>29885.86</td>\n",
       "      <td>M1230701703</td>\n",
       "      <td>0.0</td>\n",
       "      <td>0.0</td>\n",
       "      <td>0</td>\n",
       "      <td>0</td>\n",
       "    </tr>\n",
       "  </tbody>\n",
       "</table>\n",
       "</div>"
      ],
      "text/plain": [
       "   step      type    amount     nameOrig  oldbalanceOrg  newbalanceOrig  \\\n",
       "0     1   PAYMENT   9839.64  C1231006815       170136.0       160296.36   \n",
       "1     1   PAYMENT   1864.28  C1666544295        21249.0        19384.72   \n",
       "2     1  TRANSFER    181.00  C1305486145          181.0            0.00   \n",
       "3     1  CASH_OUT    181.00   C840083671          181.0            0.00   \n",
       "4     1   PAYMENT  11668.14  C2048537720        41554.0        29885.86   \n",
       "\n",
       "      nameDest  oldbalanceDest  newbalanceDest  isFraud  isFlaggedFraud  \n",
       "0  M1979787155             0.0             0.0        0               0  \n",
       "1  M2044282225             0.0             0.0        0               0  \n",
       "2   C553264065             0.0             0.0        1               0  \n",
       "3    C38997010         21182.0             0.0        1               0  \n",
       "4  M1230701703             0.0             0.0        0               0  "
      ]
     },
     "execution_count": 4,
     "metadata": {},
     "output_type": "execute_result"
    }
   ],
   "source": [
    "df = pd.read_csv('PS_20174392719_1491204439457_log.csv')\n",
    "df.head()"
   ]
  },
  {
   "cell_type": "code",
   "execution_count": 5,
   "id": "8b765673-f793-44c8-9bba-709a93aa3f25",
   "metadata": {},
   "outputs": [
    {
     "name": "stdout",
     "output_type": "stream",
     "text": [
      "Null Values - False\n"
     ]
    }
   ],
   "source": [
    "### Checking for null values\n",
    "print('Null Values -', df.isnull().values.any())"
   ]
  },
  {
   "cell_type": "markdown",
   "id": "b762e4dc-8c11-4c2c-8819-808c99c70ddc",
   "metadata": {},
   "source": [
    "## EDA"
   ]
  },
  {
   "cell_type": "code",
   "execution_count": 6,
   "id": "29f25f01-659f-4f08-b265-b499f45ff6a6",
   "metadata": {},
   "outputs": [
    {
     "data": {
      "image/png": "[encoded data removed]",
      "text/plain": [
       "<Figure size 432x288 with 1 Axes>"
      ]
     },
     "metadata": {},
     "output_type": "display_data"
    }
   ],
   "source": [
    "df['isFraud'].value_counts()\n",
    "sns.set_theme(style=\"darkgrid\")\n",
    "ax = sns.countplot(x=\"isFraud\", data=df)\n",
    "for p in ax.patches:\n",
    "    ax.annotate(str(format(int(p.get_height()), ',d')), (p.get_x(), p.get_height()))"
   ]
  },
  {
   "cell_type": "code",
   "execution_count": 7,
   "id": "eff4e3bf-25f3-488c-8fbc-b932abb44a96",
   "metadata": {},
   "outputs": [
    {
     "name": "stdout",
     "output_type": "stream",
     "text": [
      "The percentage of Fraud transactions is 0.13 %\n"
     ]
    }
   ],
   "source": [
    "import math\n",
    "a= (8213/(6354407+8213))*100\n",
    "print ('The percentage of Fraud transactions is ' \"%.2f\" % a, '%' )"
   ]
  },
  {
   "cell_type": "code",
   "execution_count": 8,
   "id": "0a957327-7c00-4a98-89c4-2d5b32010365",
   "metadata": {},
   "outputs": [
    {
     "data": {
      "text/html": [
       "<div>\n",
       "<style scoped>\n",
       "    .dataframe tbody tr th:only-of-type {\n",
       "        vertical-align: middle;\n",
       "    }\n",
       "\n",
       "    .dataframe tbody tr th {\n",
       "        vertical-align: top;\n",
       "    }\n",
       "\n",
       "    .dataframe thead th {\n",
       "        text-align: right;\n",
       "    }\n",
       "</style>\n",
       "<table border=\"1\" class=\"dataframe\">\n",
       "  <thead>\n",
       "    <tr style=\"text-align: right;\">\n",
       "      <th></th>\n",
       "      <th>step</th>\n",
       "      <th>type</th>\n",
       "      <th>amount</th>\n",
       "      <th>nameOrig</th>\n",
       "      <th>oldbalanceOrg</th>\n",
       "      <th>newbalanceOrig</th>\n",
       "      <th>nameDest</th>\n",
       "      <th>oldbalanceDest</th>\n",
       "      <th>newbalanceDest</th>\n",
       "      <th>isFraud</th>\n",
       "      <th>isFlaggedFraud</th>\n",
       "    </tr>\n",
       "  </thead>\n",
       "  <tbody>\n",
       "    <tr>\n",
       "      <th>2</th>\n",
       "      <td>1</td>\n",
       "      <td>TRANSFER</td>\n",
       "      <td>181.00</td>\n",
       "      <td>C1305486145</td>\n",
       "      <td>181.00</td>\n",
       "      <td>0.0</td>\n",
       "      <td>C553264065</td>\n",
       "      <td>0.00</td>\n",
       "      <td>0.00</td>\n",
       "      <td>1</td>\n",
       "      <td>0</td>\n",
       "    </tr>\n",
       "    <tr>\n",
       "      <th>3</th>\n",
       "      <td>1</td>\n",
       "      <td>CASH_OUT</td>\n",
       "      <td>181.00</td>\n",
       "      <td>C840083671</td>\n",
       "      <td>181.00</td>\n",
       "      <td>0.0</td>\n",
       "      <td>C38997010</td>\n",
       "      <td>21182.00</td>\n",
       "      <td>0.00</td>\n",
       "      <td>1</td>\n",
       "      <td>0</td>\n",
       "    </tr>\n",
       "    <tr>\n",
       "      <th>251</th>\n",
       "      <td>1</td>\n",
       "      <td>TRANSFER</td>\n",
       "      <td>2806.00</td>\n",
       "      <td>C1420196421</td>\n",
       "      <td>2806.00</td>\n",
       "      <td>0.0</td>\n",
       "      <td>C972765878</td>\n",
       "      <td>0.00</td>\n",
       "      <td>0.00</td>\n",
       "      <td>1</td>\n",
       "      <td>0</td>\n",
       "    </tr>\n",
       "    <tr>\n",
       "      <th>252</th>\n",
       "      <td>1</td>\n",
       "      <td>CASH_OUT</td>\n",
       "      <td>2806.00</td>\n",
       "      <td>C2101527076</td>\n",
       "      <td>2806.00</td>\n",
       "      <td>0.0</td>\n",
       "      <td>C1007251739</td>\n",
       "      <td>26202.00</td>\n",
       "      <td>0.00</td>\n",
       "      <td>1</td>\n",
       "      <td>0</td>\n",
       "    </tr>\n",
       "    <tr>\n",
       "      <th>680</th>\n",
       "      <td>1</td>\n",
       "      <td>TRANSFER</td>\n",
       "      <td>20128.00</td>\n",
       "      <td>C137533655</td>\n",
       "      <td>20128.00</td>\n",
       "      <td>0.0</td>\n",
       "      <td>C1848415041</td>\n",
       "      <td>0.00</td>\n",
       "      <td>0.00</td>\n",
       "      <td>1</td>\n",
       "      <td>0</td>\n",
       "    </tr>\n",
       "    <tr>\n",
       "      <th>...</th>\n",
       "      <td>...</td>\n",
       "      <td>...</td>\n",
       "      <td>...</td>\n",
       "      <td>...</td>\n",
       "      <td>...</td>\n",
       "      <td>...</td>\n",
       "      <td>...</td>\n",
       "      <td>...</td>\n",
       "      <td>...</td>\n",
       "      <td>...</td>\n",
       "      <td>...</td>\n",
       "    </tr>\n",
       "    <tr>\n",
       "      <th>6362615</th>\n",
       "      <td>743</td>\n",
       "      <td>CASH_OUT</td>\n",
       "      <td>339682.13</td>\n",
       "      <td>C786484425</td>\n",
       "      <td>339682.13</td>\n",
       "      <td>0.0</td>\n",
       "      <td>C776919290</td>\n",
       "      <td>0.00</td>\n",
       "      <td>339682.13</td>\n",
       "      <td>1</td>\n",
       "      <td>0</td>\n",
       "    </tr>\n",
       "    <tr>\n",
       "      <th>6362616</th>\n",
       "      <td>743</td>\n",
       "      <td>TRANSFER</td>\n",
       "      <td>6311409.28</td>\n",
       "      <td>C1529008245</td>\n",
       "      <td>6311409.28</td>\n",
       "      <td>0.0</td>\n",
       "      <td>C1881841831</td>\n",
       "      <td>0.00</td>\n",
       "      <td>0.00</td>\n",
       "      <td>1</td>\n",
       "      <td>0</td>\n",
       "    </tr>\n",
       "    <tr>\n",
       "      <th>6362617</th>\n",
       "      <td>743</td>\n",
       "      <td>CASH_OUT</td>\n",
       "      <td>6311409.28</td>\n",
       "      <td>C1162922333</td>\n",
       "      <td>6311409.28</td>\n",
       "      <td>0.0</td>\n",
       "      <td>C1365125890</td>\n",
       "      <td>68488.84</td>\n",
       "      <td>6379898.11</td>\n",
       "      <td>1</td>\n",
       "      <td>0</td>\n",
       "    </tr>\n",
       "    <tr>\n",
       "      <th>6362618</th>\n",
       "      <td>743</td>\n",
       "      <td>TRANSFER</td>\n",
       "      <td>850002.52</td>\n",
       "      <td>C1685995037</td>\n",
       "      <td>850002.52</td>\n",
       "      <td>0.0</td>\n",
       "      <td>C2080388513</td>\n",
       "      <td>0.00</td>\n",
       "      <td>0.00</td>\n",
       "      <td>1</td>\n",
       "      <td>0</td>\n",
       "    </tr>\n",
       "    <tr>\n",
       "      <th>6362619</th>\n",
       "      <td>743</td>\n",
       "      <td>CASH_OUT</td>\n",
       "      <td>850002.52</td>\n",
       "      <td>C1280323807</td>\n",
       "      <td>850002.52</td>\n",
       "      <td>0.0</td>\n",
       "      <td>C873221189</td>\n",
       "      <td>6510099.11</td>\n",
       "      <td>7360101.63</td>\n",
       "      <td>1</td>\n",
       "      <td>0</td>\n",
       "    </tr>\n",
       "  </tbody>\n",
       "</table>\n",
       "<p>8213 rows × 11 columns</p>\n",
       "</div>"
      ],
      "text/plain": [
       "         step      type      amount     nameOrig  oldbalanceOrg  \\\n",
       "2           1  TRANSFER      181.00  C1305486145         181.00   \n",
       "3           1  CASH_OUT      181.00   C840083671         181.00   \n",
       "251         1  TRANSFER     2806.00  C1420196421        2806.00   \n",
       "252         1  CASH_OUT     2806.00  C2101527076        2806.00   \n",
       "680         1  TRANSFER    20128.00   C137533655       20128.00   \n",
       "...       ...       ...         ...          ...            ...   \n",
       "6362615   743  CASH_OUT   339682.13   C786484425      339682.13   \n",
       "6362616   743  TRANSFER  6311409.28  C1529008245     6311409.28   \n",
       "6362617   743  CASH_OUT  6311409.28  C1162922333     6311409.28   \n",
       "6362618   743  TRANSFER   850002.52  C1685995037      850002.52   \n",
       "6362619   743  CASH_OUT   850002.52  C1280323807      850002.52   \n",
       "\n",
       "         newbalanceOrig     nameDest  oldbalanceDest  newbalanceDest  isFraud  \\\n",
       "2                   0.0   C553264065            0.00            0.00        1   \n",
       "3                   0.0    C38997010        21182.00            0.00        1   \n",
       "251                 0.0   C972765878            0.00            0.00        1   \n",
       "252                 0.0  C1007251739        26202.00            0.00        1   \n",
       "680                 0.0  C1848415041            0.00            0.00        1   \n",
       "...                 ...          ...             ...             ...      ...   \n",
       "6362615             0.0   C776919290            0.00       339682.13        1   \n",
       "6362616             0.0  C1881841831            0.00            0.00        1   \n",
       "6362617             0.0  C1365125890        68488.84      6379898.11        1   \n",
       "6362618             0.0  C2080388513            0.00            0.00        1   \n",
       "6362619             0.0   C873221189      6510099.11      7360101.63        1   \n",
       "\n",
       "         isFlaggedFraud  \n",
       "2                     0  \n",
       "3                     0  \n",
       "251                   0  \n",
       "252                   0  \n",
       "680                   0  \n",
       "...                 ...  \n",
       "6362615               0  \n",
       "6362616               0  \n",
       "6362617               0  \n",
       "6362618               0  \n",
       "6362619               0  \n",
       "\n",
       "[8213 rows x 11 columns]"
      ]
     },
     "execution_count": 8,
     "metadata": {},
     "output_type": "execute_result"
    }
   ],
   "source": [
    "fraud_df = df[(df['isFraud'] == 1)] \n",
    "fraud_df   "
   ]
  },
  {
   "cell_type": "code",
   "execution_count": 9,
   "id": "2f4b98dc-f50b-4970-a444-b44d692bf2be",
   "metadata": {},
   "outputs": [
    {
     "data": {
      "text/html": [
       "<div>\n",
       "<style scoped>\n",
       "    .dataframe tbody tr th:only-of-type {\n",
       "        vertical-align: middle;\n",
       "    }\n",
       "\n",
       "    .dataframe tbody tr th {\n",
       "        vertical-align: top;\n",
       "    }\n",
       "\n",
       "    .dataframe thead th {\n",
       "        text-align: right;\n",
       "    }\n",
       "</style>\n",
       "<table border=\"1\" class=\"dataframe\">\n",
       "  <thead>\n",
       "    <tr style=\"text-align: right;\">\n",
       "      <th></th>\n",
       "      <th>step</th>\n",
       "      <th>type</th>\n",
       "      <th>amount</th>\n",
       "      <th>nameOrig</th>\n",
       "      <th>oldbalanceOrg</th>\n",
       "      <th>newbalanceOrig</th>\n",
       "      <th>nameDest</th>\n",
       "      <th>oldbalanceDest</th>\n",
       "      <th>newbalanceDest</th>\n",
       "      <th>isFraud</th>\n",
       "      <th>isFlaggedFraud</th>\n",
       "    </tr>\n",
       "  </thead>\n",
       "  <tbody>\n",
       "    <tr>\n",
       "      <th>3</th>\n",
       "      <td>1</td>\n",
       "      <td>CASH_OUT</td>\n",
       "      <td>181.00</td>\n",
       "      <td>C840083671</td>\n",
       "      <td>181.00</td>\n",
       "      <td>0.0</td>\n",
       "      <td>C38997010</td>\n",
       "      <td>21182.00</td>\n",
       "      <td>0.00</td>\n",
       "      <td>1</td>\n",
       "      <td>0</td>\n",
       "    </tr>\n",
       "    <tr>\n",
       "      <th>252</th>\n",
       "      <td>1</td>\n",
       "      <td>CASH_OUT</td>\n",
       "      <td>2806.00</td>\n",
       "      <td>C2101527076</td>\n",
       "      <td>2806.00</td>\n",
       "      <td>0.0</td>\n",
       "      <td>C1007251739</td>\n",
       "      <td>26202.00</td>\n",
       "      <td>0.00</td>\n",
       "      <td>1</td>\n",
       "      <td>0</td>\n",
       "    </tr>\n",
       "    <tr>\n",
       "      <th>681</th>\n",
       "      <td>1</td>\n",
       "      <td>CASH_OUT</td>\n",
       "      <td>20128.00</td>\n",
       "      <td>C1118430673</td>\n",
       "      <td>20128.00</td>\n",
       "      <td>0.0</td>\n",
       "      <td>C339924917</td>\n",
       "      <td>6268.00</td>\n",
       "      <td>12145.85</td>\n",
       "      <td>1</td>\n",
       "      <td>0</td>\n",
       "    </tr>\n",
       "    <tr>\n",
       "      <th>724</th>\n",
       "      <td>1</td>\n",
       "      <td>CASH_OUT</td>\n",
       "      <td>416001.33</td>\n",
       "      <td>C749981943</td>\n",
       "      <td>0.00</td>\n",
       "      <td>0.0</td>\n",
       "      <td>C667346055</td>\n",
       "      <td>102.00</td>\n",
       "      <td>9291619.62</td>\n",
       "      <td>1</td>\n",
       "      <td>0</td>\n",
       "    </tr>\n",
       "    <tr>\n",
       "      <th>970</th>\n",
       "      <td>1</td>\n",
       "      <td>CASH_OUT</td>\n",
       "      <td>1277212.77</td>\n",
       "      <td>C467632528</td>\n",
       "      <td>1277212.77</td>\n",
       "      <td>0.0</td>\n",
       "      <td>C716083600</td>\n",
       "      <td>0.00</td>\n",
       "      <td>2444985.19</td>\n",
       "      <td>1</td>\n",
       "      <td>0</td>\n",
       "    </tr>\n",
       "    <tr>\n",
       "      <th>...</th>\n",
       "      <td>...</td>\n",
       "      <td>...</td>\n",
       "      <td>...</td>\n",
       "      <td>...</td>\n",
       "      <td>...</td>\n",
       "      <td>...</td>\n",
       "      <td>...</td>\n",
       "      <td>...</td>\n",
       "      <td>...</td>\n",
       "      <td>...</td>\n",
       "      <td>...</td>\n",
       "    </tr>\n",
       "    <tr>\n",
       "      <th>6362611</th>\n",
       "      <td>742</td>\n",
       "      <td>CASH_OUT</td>\n",
       "      <td>63416.99</td>\n",
       "      <td>C994950684</td>\n",
       "      <td>63416.99</td>\n",
       "      <td>0.0</td>\n",
       "      <td>C1662241365</td>\n",
       "      <td>276433.18</td>\n",
       "      <td>339850.17</td>\n",
       "      <td>1</td>\n",
       "      <td>0</td>\n",
       "    </tr>\n",
       "    <tr>\n",
       "      <th>6362613</th>\n",
       "      <td>743</td>\n",
       "      <td>CASH_OUT</td>\n",
       "      <td>1258818.82</td>\n",
       "      <td>C1436118706</td>\n",
       "      <td>1258818.82</td>\n",
       "      <td>0.0</td>\n",
       "      <td>C1240760502</td>\n",
       "      <td>503464.50</td>\n",
       "      <td>1762283.33</td>\n",
       "      <td>1</td>\n",
       "      <td>0</td>\n",
       "    </tr>\n",
       "    <tr>\n",
       "      <th>6362615</th>\n",
       "      <td>743</td>\n",
       "      <td>CASH_OUT</td>\n",
       "      <td>339682.13</td>\n",
       "      <td>C786484425</td>\n",
       "      <td>339682.13</td>\n",
       "      <td>0.0</td>\n",
       "      <td>C776919290</td>\n",
       "      <td>0.00</td>\n",
       "      <td>339682.13</td>\n",
       "      <td>1</td>\n",
       "      <td>0</td>\n",
       "    </tr>\n",
       "    <tr>\n",
       "      <th>6362617</th>\n",
       "      <td>743</td>\n",
       "      <td>CASH_OUT</td>\n",
       "      <td>6311409.28</td>\n",
       "      <td>C1162922333</td>\n",
       "      <td>6311409.28</td>\n",
       "      <td>0.0</td>\n",
       "      <td>C1365125890</td>\n",
       "      <td>68488.84</td>\n",
       "      <td>6379898.11</td>\n",
       "      <td>1</td>\n",
       "      <td>0</td>\n",
       "    </tr>\n",
       "    <tr>\n",
       "      <th>6362619</th>\n",
       "      <td>743</td>\n",
       "      <td>CASH_OUT</td>\n",
       "      <td>850002.52</td>\n",
       "      <td>C1280323807</td>\n",
       "      <td>850002.52</td>\n",
       "      <td>0.0</td>\n",
       "      <td>C873221189</td>\n",
       "      <td>6510099.11</td>\n",
       "      <td>7360101.63</td>\n",
       "      <td>1</td>\n",
       "      <td>0</td>\n",
       "    </tr>\n",
       "  </tbody>\n",
       "</table>\n",
       "<p>4116 rows × 11 columns</p>\n",
       "</div>"
      ],
      "text/plain": [
       "         step      type      amount     nameOrig  oldbalanceOrg  \\\n",
       "3           1  CASH_OUT      181.00   C840083671         181.00   \n",
       "252         1  CASH_OUT     2806.00  C2101527076        2806.00   \n",
       "681         1  CASH_OUT    20128.00  C1118430673       20128.00   \n",
       "724         1  CASH_OUT   416001.33   C749981943           0.00   \n",
       "970         1  CASH_OUT  1277212.77   C467632528     1277212.77   \n",
       "...       ...       ...         ...          ...            ...   \n",
       "6362611   742  CASH_OUT    63416.99   C994950684       63416.99   \n",
       "6362613   743  CASH_OUT  1258818.82  C1436118706     1258818.82   \n",
       "6362615   743  CASH_OUT   339682.13   C786484425      339682.13   \n",
       "6362617   743  CASH_OUT  6311409.28  C1162922333     6311409.28   \n",
       "6362619   743  CASH_OUT   850002.52  C1280323807      850002.52   \n",
       "\n",
       "         newbalanceOrig     nameDest  oldbalanceDest  newbalanceDest  isFraud  \\\n",
       "3                   0.0    C38997010        21182.00            0.00        1   \n",
       "252                 0.0  C1007251739        26202.00            0.00        1   \n",
       "681                 0.0   C339924917         6268.00        12145.85        1   \n",
       "724                 0.0   C667346055          102.00      9291619.62        1   \n",
       "970                 0.0   C716083600            0.00      2444985.19        1   \n",
       "...                 ...          ...             ...             ...      ...   \n",
       "6362611             0.0  C1662241365       276433.18       339850.17        1   \n",
       "6362613             0.0  C1240760502       503464.50      1762283.33        1   \n",
       "6362615             0.0   C776919290            0.00       339682.13        1   \n",
       "6362617             0.0  C1365125890        68488.84      6379898.11        1   \n",
       "6362619             0.0   C873221189      6510099.11      7360101.63        1   \n",
       "\n",
       "         isFlaggedFraud  \n",
       "3                     0  \n",
       "252                   0  \n",
       "681                   0  \n",
       "724                   0  \n",
       "970                   0  \n",
       "...                 ...  \n",
       "6362611               0  \n",
       "6362613               0  \n",
       "6362615               0  \n",
       "6362617               0  \n",
       "6362619               0  \n",
       "\n",
       "[4116 rows x 11 columns]"
      ]
     },
     "execution_count": 9,
     "metadata": {},
     "output_type": "execute_result"
    }
   ],
   "source": [
    "cash_out_df = fraud_df[(fraud_df['type'] == 'CASH_OUT')] \n",
    "cash_out_df"
   ]
  },
  {
   "cell_type": "code",
   "execution_count": 10,
   "id": "1aef714e-12d7-4c00-834d-884e8fdc0233",
   "metadata": {},
   "outputs": [
    {
     "data": {
      "text/html": [
       "<style type=\"text/css\">\n",
       "#T_06430_row0_col0 {\n",
       "  background-color: #bfbff5;\n",
       "  color: #000000;\n",
       "}\n",
       "#T_06430_row0_col1, #T_06430_row0_col2, #T_06430_row0_col4, #T_06430_row0_col5, #T_06430_row1_col1, #T_06430_row1_col4, #T_06430_row2_col0, #T_06430_row2_col1, #T_06430_row2_col2, #T_06430_row2_col3, #T_06430_row2_col4, #T_06430_row2_col5, #T_06430_row3_col1, #T_06430_row3_col2, #T_06430_row3_col3, #T_06430_row3_col4, #T_06430_row3_col5 {\n",
       "  background-color: #f0f0f3;\n",
       "  color: #000000;\n",
       "}\n",
       "#T_06430_row0_col3 {\n",
       "  background-color: #e2e2f3;\n",
       "  color: #000000;\n",
       "}\n",
       "#T_06430_row1_col0 {\n",
       "  background-color: #9d9df7;\n",
       "  color: #f1f1f1;\n",
       "}\n",
       "#T_06430_row1_col2 {\n",
       "  background-color: #7878f9;\n",
       "  color: #f1f1f1;\n",
       "}\n",
       "#T_06430_row1_col3 {\n",
       "  background-color: #dcdcf4;\n",
       "  color: #000000;\n",
       "}\n",
       "#T_06430_row1_col5 {\n",
       "  background-color: #7b7bf9;\n",
       "  color: #f1f1f1;\n",
       "}\n",
       "#T_06430_row3_col0 {\n",
       "  background-color: #ebebf3;\n",
       "  color: #000000;\n",
       "}\n",
       "#T_06430_row4_col0 {\n",
       "  background-color: #8b8bf8;\n",
       "  color: #f1f1f1;\n",
       "}\n",
       "#T_06430_row4_col1, #T_06430_row4_col3, #T_06430_row4_col4, #T_06430_row4_col5, #T_06430_row5_col0, #T_06430_row5_col1, #T_06430_row5_col2 {\n",
       "  background-color: #0000ff;\n",
       "  color: #f1f1f1;\n",
       "}\n",
       "#T_06430_row4_col2 {\n",
       "  background-color: #7979f9;\n",
       "  color: #f1f1f1;\n",
       "}\n",
       "#T_06430_row5_col3 {\n",
       "  background-color: #a4a4f7;\n",
       "  color: #000000;\n",
       "}\n",
       "#T_06430_row5_col4 {\n",
       "  background-color: #ababf6;\n",
       "  color: #000000;\n",
       "}\n",
       "#T_06430_row5_col5 {\n",
       "  background-color: #8d8df8;\n",
       "  color: #f1f1f1;\n",
       "}\n",
       "</style>\n",
       "<table id=\"T_06430\">\n",
       "  <thead>\n",
       "    <tr>\n",
       "      <th class=\"blank level0\" >&nbsp;</th>\n",
       "      <th id=\"T_06430_level0_col0\" class=\"col_heading level0 col0\" colspan=\"3\">sum</th>\n",
       "      <th id=\"T_06430_level0_col3\" class=\"col_heading level0 col3\" colspan=\"3\">std</th>\n",
       "    </tr>\n",
       "    <tr>\n",
       "      <th class=\"blank level1\" >&nbsp;</th>\n",
       "      <th id=\"T_06430_level1_col0\" class=\"col_heading level1 col0\" >amount</th>\n",
       "      <th id=\"T_06430_level1_col1\" class=\"col_heading level1 col1\" >isFlaggedFraud</th>\n",
       "      <th id=\"T_06430_level1_col2\" class=\"col_heading level1 col2\" >isFraud</th>\n",
       "      <th id=\"T_06430_level1_col3\" class=\"col_heading level1 col3\" >amount</th>\n",
       "      <th id=\"T_06430_level1_col4\" class=\"col_heading level1 col4\" >isFlaggedFraud</th>\n",
       "      <th id=\"T_06430_level1_col5\" class=\"col_heading level1 col5\" >isFraud</th>\n",
       "    </tr>\n",
       "    <tr>\n",
       "      <th class=\"index_name level0\" >type</th>\n",
       "      <th class=\"blank col0\" >&nbsp;</th>\n",
       "      <th class=\"blank col1\" >&nbsp;</th>\n",
       "      <th class=\"blank col2\" >&nbsp;</th>\n",
       "      <th class=\"blank col3\" >&nbsp;</th>\n",
       "      <th class=\"blank col4\" >&nbsp;</th>\n",
       "      <th class=\"blank col5\" >&nbsp;</th>\n",
       "    </tr>\n",
       "  </thead>\n",
       "  <tbody>\n",
       "    <tr>\n",
       "      <th id=\"T_06430_level0_row0\" class=\"row_heading level0 row0\" >CASH_IN</th>\n",
       "      <td id=\"T_06430_row0_col0\" class=\"data row0 col0\" >236367391912.459991</td>\n",
       "      <td id=\"T_06430_row0_col1\" class=\"data row0 col1\" >0</td>\n",
       "      <td id=\"T_06430_row0_col2\" class=\"data row0 col2\" >0</td>\n",
       "      <td id=\"T_06430_row0_col3\" class=\"data row0 col3\" >126508.255272</td>\n",
       "      <td id=\"T_06430_row0_col4\" class=\"data row0 col4\" >0.000000</td>\n",
       "      <td id=\"T_06430_row0_col5\" class=\"data row0 col5\" >0.000000</td>\n",
       "    </tr>\n",
       "    <tr>\n",
       "      <th id=\"T_06430_level0_row1\" class=\"row_heading level0 row1\" >CASH_OUT</th>\n",
       "      <td id=\"T_06430_row1_col0\" class=\"data row1 col0\" >394412995224.489990</td>\n",
       "      <td id=\"T_06430_row1_col1\" class=\"data row1 col1\" >0</td>\n",
       "      <td id=\"T_06430_row1_col2\" class=\"data row1 col2\" >4116</td>\n",
       "      <td id=\"T_06430_row1_col3\" class=\"data row1 col3\" >175329.744483</td>\n",
       "      <td id=\"T_06430_row1_col4\" class=\"data row1 col4\" >0.000000</td>\n",
       "      <td id=\"T_06430_row1_col5\" class=\"data row1 col5\" >0.042851</td>\n",
       "    </tr>\n",
       "    <tr>\n",
       "      <th id=\"T_06430_level0_row2\" class=\"row_heading level0 row2\" >DEBIT</th>\n",
       "      <td id=\"T_06430_row2_col0\" class=\"data row2 col0\" >227199221.280000</td>\n",
       "      <td id=\"T_06430_row2_col1\" class=\"data row2 col1\" >0</td>\n",
       "      <td id=\"T_06430_row2_col2\" class=\"data row2 col2\" >0</td>\n",
       "      <td id=\"T_06430_row2_col3\" class=\"data row2 col3\" >13318.535518</td>\n",
       "      <td id=\"T_06430_row2_col4\" class=\"data row2 col4\" >0.000000</td>\n",
       "      <td id=\"T_06430_row2_col5\" class=\"data row2 col5\" >0.000000</td>\n",
       "    </tr>\n",
       "    <tr>\n",
       "      <th id=\"T_06430_level0_row3\" class=\"row_heading level0 row3\" >PAYMENT</th>\n",
       "      <td id=\"T_06430_row3_col0\" class=\"data row3 col0\" >28093371138.369999</td>\n",
       "      <td id=\"T_06430_row3_col1\" class=\"data row3 col1\" >0</td>\n",
       "      <td id=\"T_06430_row3_col2\" class=\"data row3 col2\" >0</td>\n",
       "      <td id=\"T_06430_row3_col3\" class=\"data row3 col3\" >12556.450186</td>\n",
       "      <td id=\"T_06430_row3_col4\" class=\"data row3 col4\" >0.000000</td>\n",
       "      <td id=\"T_06430_row3_col5\" class=\"data row3 col5\" >0.000000</td>\n",
       "    </tr>\n",
       "    <tr>\n",
       "      <th id=\"T_06430_level0_row4\" class=\"row_heading level0 row4\" >TRANSFER</th>\n",
       "      <td id=\"T_06430_row4_col0\" class=\"data row4 col0\" >485291987263.169983</td>\n",
       "      <td id=\"T_06430_row4_col1\" class=\"data row4 col1\" >16</td>\n",
       "      <td id=\"T_06430_row4_col2\" class=\"data row4 col2\" >4097</td>\n",
       "      <td id=\"T_06430_row4_col3\" class=\"data row4 col3\" >1879573.528908</td>\n",
       "      <td id=\"T_06430_row4_col4\" class=\"data row4 col4\" >0.005479</td>\n",
       "      <td id=\"T_06430_row4_col5\" class=\"data row4 col5\" >0.087344</td>\n",
       "    </tr>\n",
       "    <tr>\n",
       "      <th id=\"T_06430_level0_row5\" class=\"row_heading level0 row5\" >All</th>\n",
       "      <td id=\"T_06430_row5_col0\" class=\"data row5 col0\" >1144392944759.770020</td>\n",
       "      <td id=\"T_06430_row5_col1\" class=\"data row5 col1\" >16</td>\n",
       "      <td id=\"T_06430_row5_col2\" class=\"data row5 col2\" >8213</td>\n",
       "      <td id=\"T_06430_row5_col3\" class=\"data row5 col3\" >603858.184009</td>\n",
       "      <td id=\"T_06430_row5_col4\" class=\"data row5 col4\" >0.001586</td>\n",
       "      <td id=\"T_06430_row5_col5\" class=\"data row5 col5\" >0.035905</td>\n",
       "    </tr>\n",
       "  </tbody>\n",
       "</table>\n"
      ],
      "text/plain": [
       "<pandas.io.formats.style.Styler at 0x7f5a2d475ca0>"
      ]
     },
     "execution_count": 10,
     "metadata": {},
     "output_type": "execute_result"
    }
   ],
   "source": [
    "#Pivot table\n",
    "df_pivot1=pd.pivot_table(df,index=[\"type\"],\n",
    "                               values=['amount','isFraud','isFlaggedFraud'],\n",
    "                               aggfunc=[np.sum,np.std], margins=True)\n",
    "\n",
    "#Adding color gradient \n",
    "cm = sns.light_palette(\"blue\", as_cmap=True)\n",
    "df_pivot1.style.background_gradient(cmap=cm)"
   ]
  },
  {
   "cell_type": "code",
   "execution_count": 11,
   "id": "3759a7a1-6d5d-4903-9084-f0ba2f000468",
   "metadata": {},
   "outputs": [
    {
     "data": {
      "image/png": "[encoded data removed]",
      "text/plain": [
       "<Figure size 576x432 with 2 Axes>"
      ]
     },
     "metadata": {},
     "output_type": "display_data"
    }
   ],
   "source": [
    "corrmat = df.corr()\n",
    "sns.set(font_scale=1.15)\n",
    "f, ax = plt.subplots(figsize=(8, 6))\n",
    "hm = sns.heatmap(corrmat, \n",
    "                 cbar=True, \n",
    "                 annot=True, \n",
    "                 square=True, \n",
    "                 fmt='.2f', \n",
    "                 annot_kws={'size': 10}, \n",
    "                 yticklabels=corrmat.columns, \n",
    "                 xticklabels=corrmat.columns)"
   ]
  },
  {
   "cell_type": "markdown",
   "id": "267f61c4-9c90-4e0c-856a-4d965400f79a",
   "metadata": {},
   "source": [
    "## Distribution of the Transaction Type Column"
   ]
  },
  {
   "cell_type": "code",
   "execution_count": 12,
   "id": "c851c482-751b-4980-b9fd-9d209a4c7a18",
   "metadata": {},
   "outputs": [
    {
     "name": "stdout",
     "output_type": "stream",
     "text": [
      "CASH_OUT    2237500\n",
      "PAYMENT     2151495\n",
      "CASH_IN     1399284\n",
      "TRANSFER     532909\n",
      "DEBIT         41432\n",
      "Name: type, dtype: int64\n"
     ]
    },
    {
     "data": {
      "image/png": "[encoded data removed]",
      "text/plain": [
       "<Figure size 576x576 with 1 Axes>"
      ]
     },
     "metadata": {},
     "output_type": "display_data"
    }
   ],
   "source": [
    "print(df.type.value_counts())\n",
    "f, ax = plt.subplots(1, 1, figsize=(8, 8))\n",
    "df.type.value_counts().plot(kind='bar', title=\"Transaction type\", ax=ax, figsize=(8,8))\n",
    "plt.ticklabel_format(style='plain', axis='y')\n",
    "for p in ax.patches:\n",
    "    ax.annotate(str(format(int(p.get_height()), ',d')), (p.get_x(), p.get_height()))\n",
    "plt.show()"
   ]
  },
  {
   "cell_type": "markdown",
   "id": "6b787814-1b05-4072-981a-2228b4b81966",
   "metadata": {},
   "source": [
    "Number of transactions that is safe - 6354407\n",
    "\n",
    "Number of transactions that are Fraud but not Flagged by the system - 8197\n",
    "\n",
    "Number of transactions that are Fraud and are Flagged bt the system - 16"
   ]
  },
  {
   "cell_type": "code",
   "execution_count": 13,
   "id": "f99088b6-0904-4b54-b5be-07160a73a81e",
   "metadata": {},
   "outputs": [
    {
     "data": {
      "image/png": "[encoded data removed]",
      "text/plain": [
       "<Figure size 576x432 with 1 Axes>"
      ]
     },
     "metadata": {},
     "output_type": "display_data"
    }
   ],
   "source": [
    "#Relation Between the Fraud Transactions and the transactions Flagged by the system\n",
    "\n",
    "ax = df.groupby(['isFlaggedFraud','isFraud']).size().plot(kind='bar',figsize=(8, 6), color='green')\n",
    "ax.set_title(\" Comparison between Fraud and Flagged Fraud transactions\")\n",
    "ax.set_xlabel(\"(isFlaggedFraud, isFraud)\")\n",
    "ax.set_ylabel(\"Count of transaction\")\n",
    "plt.ticklabel_format(style='plain', axis='y')\n",
    "for p in ax.patches:\n",
    "    ax.annotate(str(format(int(p.get_height()), ',d')), (p.get_x(), p.get_height()))\n",
    "\n"
   ]
  },
  {
   "cell_type": "code",
   "execution_count": 14,
   "id": "882d3ccb-b5a8-4f58-a1b3-6b99a3f943e3",
   "metadata": {},
   "outputs": [
    {
     "data": {
      "image/png": "[encoded data removed]",
      "text/plain": [
       "<Figure size 576x432 with 1 Axes>"
      ]
     },
     "metadata": {},
     "output_type": "display_data"
    }
   ],
   "source": [
    "# Fraud transactions and Transaction types\n",
    "\n",
    "ax = df.groupby(['type', 'isFraud']).size().plot(kind='bar',figsize=(8, 6), color='purple')\n",
    "ax.set_title(\" Transaction which are the actual fraud per transaction type\")\n",
    "ax.set_xlabel(\"(Type, isFraud)\")\n",
    "ax.set_ylabel(\"Count of transaction\")\n",
    "plt.ticklabel_format(style='plain', axis='y')\n",
    "for p in ax.patches:\n",
    "    ax.annotate(str(format(int(p.get_height()), ',d')), (p.get_x(), p.get_height()))\n",
    "\n"
   ]
  },
  {
   "cell_type": "code",
   "execution_count": 15,
   "id": "3da3a9a3-4e65-45ce-a73b-171fc94bf59a",
   "metadata": {},
   "outputs": [
    {
     "data": {
      "image/png": "[encoded data removed]",
      "text/plain": [
       "<Figure size 432x288 with 1 Axes>"
      ]
     },
     "metadata": {},
     "output_type": "display_data"
    }
   ],
   "source": [
    "ax=sns.countplot('type', data=fraud_df)\n",
    "plt.title('Fraud Distribution', fontsize=14)\n",
    "for p in ax.patches:\n",
    "    ax.annotate(str(format(int(p.get_height()), ',d')), (p.get_x(), p.get_height()))\n",
    "\n",
    "plt.show()"
   ]
  },
  {
   "cell_type": "code",
   "execution_count": 16,
   "id": "464bb8cf-4eff-4816-b7d2-d8e28e85aee4",
   "metadata": {},
   "outputs": [
    {
     "data": {
      "image/png": "[encoded data removed]",
      "text/plain": [
       "<Figure size 576x432 with 1 Axes>"
      ]
     },
     "metadata": {},
     "output_type": "display_data"
    }
   ],
   "source": [
    "\n",
    "\n",
    "ax = df.groupby(['type', 'isFlaggedFraud']).size().plot(kind='bar',figsize=(8, 6), color='pink')\n",
    "ax.set_title(\"Transaction which are flagged as fraud per transaction type\")\n",
    "ax.set_xlabel(\"(Type, isFlaggedFraud)\")\n",
    "ax.set_ylabel(\"Count of transaction\")\n",
    "for p in ax.patches:\n",
    "    ax.annotate(str(format(int(p.get_height()), ',d')), (p.get_x(), p.get_height()*1.01))\n",
    "\n"
   ]
  },
  {
   "cell_type": "code",
   "execution_count": 17,
   "id": "5fbe2eb8-b3d5-4588-bc6a-3948d972573a",
   "metadata": {},
   "outputs": [
    {
     "data": {
      "image/png": "[encoded data removed]",
      "text/plain": [
       "<Figure size 432x288 with 1 Axes>"
      ]
     },
     "metadata": {},
     "output_type": "display_data"
    }
   ],
   "source": [
    "sns.distplot(cash_out_df['amount'])\n",
    "plt.title(\"Distribution plot\")\n",
    "sns.despine()\n",
    "plt.show()"
   ]
  },
  {
   "cell_type": "code",
   "execution_count": 18,
   "id": "87c5a4a6-cee5-48f6-8ea9-05a7b452a800",
   "metadata": {},
   "outputs": [
    {
     "data": {
      "image/png": "[encoded data removed]",
      "text/plain": [
       "<Figure size 1296x432 with 1 Axes>"
      ]
     },
     "metadata": {},
     "output_type": "display_data"
    }
   ],
   "source": [
    "# transaction hour\n",
    "df['transactionHour'] = df['step'] % 24\n",
    "\n",
    "# converting into object type\n",
    "df['transactionHour'] = df['transactionHour'].astype('object')\n",
    "# number of transactions in each hour\n",
    "plt.figure(figsize=(18,6))\n",
    "ax = (df['transactionHour'].value_counts(sort=False, normalize=True) * 100).round(2).plot(kind='bar')\n",
    "for i in ax.patches:\n",
    "    # get_x pulls left or right; get_height pushes up or down\n",
    "    ax.text(i.get_x(), i.get_height(), str(round(i.get_height(), 2)) + \"%\", fontsize=12, color='black')\n",
    "plt.xlabel('Transaction hour', fontsize=15, fontweight='bold')\n",
    "plt.xticks(fontsize=15, fontweight='bold', rotation=0)\n",
    "plt.ylabel('% of observations', fontsize=15, fontweight='bold')\n",
    "plt.yticks(fontsize=15, fontweight='bold')\n",
    "plt.title('No. of obervations every hour', fontsize=22, fontweight='bold')\n",
    "plt.show()"
   ]
  },
  {
   "cell_type": "markdown",
   "id": "ac9a7bd0-133b-4b98-b52a-e91a479099b1",
   "metadata": {},
   "source": [
    "## Dealing with Account Ids 'nameOrig' and 'nameDest'"
   ]
  },
  {
   "cell_type": "code",
   "execution_count": 19,
   "id": "d15635df-92f3-474a-b5eb-b32b75202592",
   "metadata": {},
   "outputs": [
    {
     "name": "stdout",
     "output_type": "stream",
     "text": [
      "All Transactions  6362620\n",
      "Unique Transactions  6353307\n",
      "Transactions from existing accounts  9313\n"
     ]
    }
   ],
   "source": [
    "print('All Transactions ',df['nameOrig'].size)\n",
    "print('Unique Transactions ',df['nameOrig'].unique().size)\n",
    "print('Transactions from existing accounts ',df['nameOrig'].size-df['nameOrig'].unique().size)"
   ]
  },
  {
   "cell_type": "code",
   "execution_count": 20,
   "id": "55a9b440-f162-4da3-a564-2c15fddd4392",
   "metadata": {},
   "outputs": [
    {
     "name": "stdout",
     "output_type": "stream",
     "text": [
      "All Transactions  6362620\n",
      "Unique Transactions  2722362\n",
      "Transactions from existing accounts  9313\n"
     ]
    }
   ],
   "source": [
    "print('All Transactions ',df['nameDest'].size)\n",
    "print('Unique Transactions ',df['nameDest'].unique().size)\n",
    "print('Transactions from existing accounts ',df['nameDest'].size-df['nameOrig'].unique().size)"
   ]
  },
  {
   "cell_type": "code",
   "execution_count": 21,
   "id": "24728261-5e7d-4778-b735-b289efea1d67",
   "metadata": {},
   "outputs": [
    {
     "name": "stdout",
     "output_type": "stream",
     "text": [
      "False\n"
     ]
    }
   ],
   "source": [
    "print(format(\\\n",
    "(df.loc[df.type == 'CASH_IN'].nameOrig.str.contains('M')).any()))"
   ]
  },
  {
   "cell_type": "markdown",
   "id": "6c3ff034-3716-449b-92d4-8876ab99686c",
   "metadata": {},
   "source": [
    "no merchants among originator accounts for CASH_IN transactions"
   ]
  },
  {
   "cell_type": "code",
   "execution_count": 22,
   "id": "ee6658bd-379f-4f2e-b926-1ab147966d1f",
   "metadata": {},
   "outputs": [
    {
     "name": "stdout",
     "output_type": "stream",
     "text": [
      "False\n"
     ]
    }
   ],
   "source": [
    "print(format(\\\n",
    "(df.loc[df.type == 'CASH_OUT'].nameDest.str.contains('M')).any()))"
   ]
  },
  {
   "cell_type": "markdown",
   "id": "f805c4b4-997e-45c8-9018-a264c6050ee3",
   "metadata": {},
   "source": [
    "there's none merchants among destination accounts for CASH_OUT \\\n",
    "transactions"
   ]
  },
  {
   "cell_type": "code",
   "execution_count": 23,
   "id": "2c2e1300-0ff3-444c-9645-dfb92702ab11",
   "metadata": {},
   "outputs": [
    {
     "name": "stdout",
     "output_type": "stream",
     "text": [
      "False\n",
      "False\n"
     ]
    }
   ],
   "source": [
    "print(format(\\\n",
    "      df.nameOrig.str.contains('M').any())) \n",
    "\n",
    "print(format(\\\n",
    "(df.loc[df.nameDest.str.contains('M')].type != 'PAYMENT').any()))"
   ]
  },
  {
   "cell_type": "markdown",
   "id": "ad6bb0f5-597f-46d0-9e02-b5c61ae2747d",
   "metadata": {},
   "source": [
    "there's none merchants among any originator accounts and none transactions having merchants among destination accounts other than the PAYMENT type."
   ]
  },
  {
   "cell_type": "code",
   "execution_count": 24,
   "id": "8217c31b-f2a2-433b-b183-35ea1cda4a6c",
   "metadata": {},
   "outputs": [
    {
     "name": "stdout",
     "output_type": "stream",
     "text": [
      "Percentage of observations with balance errors in the account giving money:  85.0\n",
      "Percentage of observations with balance errors in the account receiving money:  100.0\n"
     ]
    }
   ],
   "source": [
    "wrong_orig_bal = sum(df[\"oldbalanceOrg\"] - df[\"amount\"] != df[\"newbalanceOrig\"])\n",
    "wrong_dest_bal = sum(df[\"newbalanceDest\"] + df[\"amount\"] != df[\"newbalanceDest\"])\n",
    "print(\"Percentage of observations with balance errors in the account giving money: \", 100*round(wrong_orig_bal/len(df),2))\n",
    "print(\"Percentage of observations with balance errors in the account receiving money: \", 100*round(wrong_dest_bal/len(df),2))"
   ]
  },
  {
   "cell_type": "markdown",
   "id": "297a56b5-fc69-4e67-b86c-e59220f49c22",
   "metadata": {
    "tags": []
   },
   "source": [
    "## Futher Pre-processing"
   ]
  },
  {
   "cell_type": "code",
   "execution_count": 25,
   "id": "ae1b2e3c-9fae-4663-af78-d3498f475ad2",
   "metadata": {},
   "outputs": [],
   "source": [
    "# Eliminate columns shown to be irrelevant for analysis in the EDA\n",
    "df = df.drop(['nameOrig', 'nameDest', 'isFlaggedFraud'], axis = 1)"
   ]
  },
  {
   "cell_type": "markdown",
   "id": "ff536949-b8cf-4ee2-bc7d-93e2ab40204b",
   "metadata": {},
   "source": [
    "### One hot encoding"
   ]
  },
  {
   "cell_type": "code",
   "execution_count": 26,
   "id": "96453d80-1fdd-4244-b908-a7024700d386",
   "metadata": {},
   "outputs": [
    {
     "data": {
      "text/html": [
       "<div>\n",
       "<style scoped>\n",
       "    .dataframe tbody tr th:only-of-type {\n",
       "        vertical-align: middle;\n",
       "    }\n",
       "\n",
       "    .dataframe tbody tr th {\n",
       "        vertical-align: top;\n",
       "    }\n",
       "\n",
       "    .dataframe thead th {\n",
       "        text-align: right;\n",
       "    }\n",
       "</style>\n",
       "<table border=\"1\" class=\"dataframe\">\n",
       "  <thead>\n",
       "    <tr style=\"text-align: right;\">\n",
       "      <th></th>\n",
       "      <th>step</th>\n",
       "      <th>amount</th>\n",
       "      <th>oldbalanceOrg</th>\n",
       "      <th>newbalanceOrig</th>\n",
       "      <th>oldbalanceDest</th>\n",
       "      <th>newbalanceDest</th>\n",
       "      <th>isFraud</th>\n",
       "      <th>transactionHour</th>\n",
       "      <th>type__CASH_IN</th>\n",
       "      <th>type__CASH_OUT</th>\n",
       "      <th>type__DEBIT</th>\n",
       "      <th>type__PAYMENT</th>\n",
       "      <th>type__TRANSFER</th>\n",
       "    </tr>\n",
       "  </thead>\n",
       "  <tbody>\n",
       "    <tr>\n",
       "      <th>0</th>\n",
       "      <td>1</td>\n",
       "      <td>9839.64</td>\n",
       "      <td>170136.0</td>\n",
       "      <td>160296.36</td>\n",
       "      <td>0.0</td>\n",
       "      <td>0.0</td>\n",
       "      <td>0</td>\n",
       "      <td>1</td>\n",
       "      <td>0</td>\n",
       "      <td>0</td>\n",
       "      <td>0</td>\n",
       "      <td>1</td>\n",
       "      <td>0</td>\n",
       "    </tr>\n",
       "    <tr>\n",
       "      <th>1</th>\n",
       "      <td>1</td>\n",
       "      <td>1864.28</td>\n",
       "      <td>21249.0</td>\n",
       "      <td>19384.72</td>\n",
       "      <td>0.0</td>\n",
       "      <td>0.0</td>\n",
       "      <td>0</td>\n",
       "      <td>1</td>\n",
       "      <td>0</td>\n",
       "      <td>0</td>\n",
       "      <td>0</td>\n",
       "      <td>1</td>\n",
       "      <td>0</td>\n",
       "    </tr>\n",
       "    <tr>\n",
       "      <th>2</th>\n",
       "      <td>1</td>\n",
       "      <td>181.00</td>\n",
       "      <td>181.0</td>\n",
       "      <td>0.00</td>\n",
       "      <td>0.0</td>\n",
       "      <td>0.0</td>\n",
       "      <td>1</td>\n",
       "      <td>1</td>\n",
       "      <td>0</td>\n",
       "      <td>0</td>\n",
       "      <td>0</td>\n",
       "      <td>0</td>\n",
       "      <td>1</td>\n",
       "    </tr>\n",
       "    <tr>\n",
       "      <th>3</th>\n",
       "      <td>1</td>\n",
       "      <td>181.00</td>\n",
       "      <td>181.0</td>\n",
       "      <td>0.00</td>\n",
       "      <td>21182.0</td>\n",
       "      <td>0.0</td>\n",
       "      <td>1</td>\n",
       "      <td>1</td>\n",
       "      <td>0</td>\n",
       "      <td>1</td>\n",
       "      <td>0</td>\n",
       "      <td>0</td>\n",
       "      <td>0</td>\n",
       "    </tr>\n",
       "    <tr>\n",
       "      <th>4</th>\n",
       "      <td>1</td>\n",
       "      <td>11668.14</td>\n",
       "      <td>41554.0</td>\n",
       "      <td>29885.86</td>\n",
       "      <td>0.0</td>\n",
       "      <td>0.0</td>\n",
       "      <td>0</td>\n",
       "      <td>1</td>\n",
       "      <td>0</td>\n",
       "      <td>0</td>\n",
       "      <td>0</td>\n",
       "      <td>1</td>\n",
       "      <td>0</td>\n",
       "    </tr>\n",
       "  </tbody>\n",
       "</table>\n",
       "</div>"
      ],
      "text/plain": [
       "   step    amount  oldbalanceOrg  newbalanceOrig  oldbalanceDest  \\\n",
       "0     1   9839.64       170136.0       160296.36             0.0   \n",
       "1     1   1864.28        21249.0        19384.72             0.0   \n",
       "2     1    181.00          181.0            0.00             0.0   \n",
       "3     1    181.00          181.0            0.00         21182.0   \n",
       "4     1  11668.14        41554.0        29885.86             0.0   \n",
       "\n",
       "   newbalanceDest  isFraud transactionHour  type__CASH_IN  type__CASH_OUT  \\\n",
       "0             0.0        0               1              0               0   \n",
       "1             0.0        0               1              0               0   \n",
       "2             0.0        1               1              0               0   \n",
       "3             0.0        1               1              0               1   \n",
       "4             0.0        0               1              0               0   \n",
       "\n",
       "   type__DEBIT  type__PAYMENT  type__TRANSFER  \n",
       "0            0              1               0  \n",
       "1            0              1               0  \n",
       "2            0              0               1  \n",
       "3            0              0               0  \n",
       "4            0              1               0  "
      ]
     },
     "execution_count": 26,
     "metadata": {},
     "output_type": "execute_result"
    }
   ],
   "source": [
    "#One hot encoding\n",
    "df=pd.concat([df,pd.get_dummies(df['type'], prefix='type_')],axis=1)\n",
    "df.drop(['type'],axis=1,inplace = True)\n",
    "\n",
    "df.head()"
   ]
  },
  {
   "cell_type": "markdown",
   "id": "ff388185-9312-4d86-8381-4c628c7bb3fe",
   "metadata": {},
   "source": [
    "### Split data"
   ]
  },
  {
   "cell_type": "code",
   "execution_count": 27,
   "id": "c16111ff-fc49-46a8-8713-b5b4d28b4170",
   "metadata": {},
   "outputs": [],
   "source": [
    "from collections import Counter\n",
    "#Splitting dependent and independent variable\n",
    "df2=df.copy()\n",
    "X=df2.drop('isFraud',axis=1)\n",
    "y=df2['isFraud']\n",
    "# # Train-test split\n",
    "# X_train, X_test, y_train, y_test = train_test_split(X, y, train_size=0.7, random_state=70)\n",
    "\n",
    "#Standardizing the numerical columns\n",
    "col_names=['amount','oldbalanceOrg','newbalanceOrig','oldbalanceDest','newbalanceDest']\n",
    "features_train = X[col_names]\n",
    "scaler = StandardScaler().fit(features_train.values)\n",
    "features_train = scaler.transform(features_train.values)\n",
    "X[col_names] = features_train"
   ]
  },
  {
   "cell_type": "markdown",
   "id": "0fc6a843-608b-4ea1-b890-eff6b2312faa",
   "metadata": {},
   "source": [
    "## Model Selection"
   ]
  },
  {
   "cell_type": "code",
   "execution_count": null,
   "id": "785f6600-801a-4f6f-9a14-8f4b11c3de41",
   "metadata": {},
   "outputs": [],
   "source": [
    "from sklearn.svm import SVC\n",
    "from sklearn import datasets, linear_model\n",
    "from sklearn.model_selection import cross_val_predict\n",
    "lasso = SVC()\n",
    "y_pred = cross_val_predict(lasso, X, y, cv=3)\n",
    "print(classification_report(y, y_pred))"
   ]
  },
  {
   "cell_type": "markdown",
   "id": "c54c8189-53fd-4feb-97dd-2a83807216a7",
   "metadata": {},
   "source": [
    "## Feature Selection with XGBoost Feature Importance Scores"
   ]
  },
  {
   "cell_type": "code",
   "execution_count": null,
   "id": "fbf13b22-1e43-4e14-8157-cb160f6dacd9",
   "metadata": {},
   "outputs": [],
   "source": [
    "fig = plt.figure(figsize = (14, 9))\n",
    "ax = fig.add_subplot(111)\n",
    "\n",
    "colours = plt.cm.Set1(np.linspace(0, 1, 9))\n",
    "\n",
    "ax = plot_importance(clf, height = 1, color = colours, grid = False, \\\n",
    "                     show_values = False, importance_type = 'cover', ax = ax);\n",
    "for axis in ['top','bottom','left','right']:\n",
    "            ax.spines[axis].set_linewidth(2)\n",
    "        \n",
    "ax.set_xlabel('importance score', size = 16);\n",
    "ax.set_ylabel('features', size = 16);\n",
    "ax.set_yticklabels(ax.get_yticklabels(), size = 12);\n",
    "ax.set_title('Ordering of features by importance to the model learnt', size = 20);"
   ]
  }
 ],
 "metadata": {
  "kernelspec": {
   "display_name": "Python 3 (ipykernel)",
   "language": "python",
   "name": "python3"
  },
  "language_info": {
   "codemirror_mode": {
    "name": "ipython",
    "version": 3
   },
   "file_extension": ".py",
   "mimetype": "text/x-python",
   "name": "python",
   "nbconvert_exporter": "python",
   "pygments_lexer": "ipython3",
   "version": "3.9.12"
  }
 },
 "nbformat": 4,
 "nbformat_minor": 5
}
